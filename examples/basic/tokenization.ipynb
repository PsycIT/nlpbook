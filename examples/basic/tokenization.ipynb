{
 "nbformat": 4,
 "nbformat_minor": 0,
 "metadata": {
  "colab": {
   "name": "tokenization.ipynb",
   "provenance": [],
   "collapsed_sections": []
  },
  "kernelspec": {
   "name": "python3",
   "display_name": "Python 3"
  }
 },
 "cells": [
  {
   "cell_type": "markdown",
   "metadata": {
    "id": "8oaGGhdmYKqt"
   },
   "source": [
    "# 패키지 설치\n",
    "pip 명령어로 의존성 있는 패키지를 설치합니다.\n",
    "\n"
   ]
  },
  {
   "cell_type": "code",
   "metadata": {
    "id": "t8TJkXkpDnSq"
   },
   "source": [
    "!pip install ratsnlp"
   ],
   "execution_count": 1,
   "outputs": [
    {
     "name": "stdout",
     "output_type": "stream",
     "text": [
      "Requirement already satisfied: ratsnlp in /home/itjung/anaconda3/envs/py38/lib/python3.8/site-packages/ratsnlp-1.0.1-py3.8.egg (1.0.1)\r\n",
      "Requirement already satisfied: torch>=1.9.0 in /home/itjung/anaconda3/envs/py38/lib/python3.8/site-packages (from ratsnlp) (1.10.2)\r\n",
      "Requirement already satisfied: pytorch-lightning==1.3.4 in /home/itjung/anaconda3/envs/py38/lib/python3.8/site-packages (from ratsnlp) (1.3.4)\r\n",
      "Requirement already satisfied: transformers==4.10.0 in /home/itjung/anaconda3/envs/py38/lib/python3.8/site-packages (from ratsnlp) (4.10.0)\r\n",
      "Requirement already satisfied: Korpora>=0.2.0 in /home/itjung/anaconda3/envs/py38/lib/python3.8/site-packages (from ratsnlp) (0.2.0)\r\n",
      "Requirement already satisfied: flask>=1.1.4 in /home/itjung/anaconda3/envs/py38/lib/python3.8/site-packages (from ratsnlp) (2.0.2)\r\n",
      "Requirement already satisfied: flask_ngrok>=0.0.25 in /home/itjung/anaconda3/envs/py38/lib/python3.8/site-packages (from ratsnlp) (0.0.25)\r\n",
      "Requirement already satisfied: flask_cors>=3.0.10 in /home/itjung/anaconda3/envs/py38/lib/python3.8/site-packages (from ratsnlp) (3.0.10)\r\n",
      "Requirement already satisfied: tensorboard!=2.5.0,>=2.2.0 in /home/itjung/anaconda3/envs/py38/lib/python3.8/site-packages (from pytorch-lightning==1.3.4->ratsnlp) (2.8.0)\r\n",
      "Requirement already satisfied: packaging in /home/itjung/anaconda3/envs/py38/lib/python3.8/site-packages (from pytorch-lightning==1.3.4->ratsnlp) (21.3)\r\n",
      "Requirement already satisfied: pyDeprecate==0.3.0 in /home/itjung/anaconda3/envs/py38/lib/python3.8/site-packages (from pytorch-lightning==1.3.4->ratsnlp) (0.3.0)\r\n",
      "Requirement already satisfied: future>=0.17.1 in /home/itjung/anaconda3/envs/py38/lib/python3.8/site-packages (from pytorch-lightning==1.3.4->ratsnlp) (0.18.2)\r\n",
      "Requirement already satisfied: numpy>=1.17.2 in /home/itjung/anaconda3/envs/py38/lib/python3.8/site-packages (from pytorch-lightning==1.3.4->ratsnlp) (1.22.2)\r\n",
      "Requirement already satisfied: torchmetrics>=0.2.0 in /home/itjung/anaconda3/envs/py38/lib/python3.8/site-packages (from pytorch-lightning==1.3.4->ratsnlp) (0.7.1)\r\n",
      "Requirement already satisfied: PyYAML<=5.4.1,>=5.1 in /home/itjung/anaconda3/envs/py38/lib/python3.8/site-packages (from pytorch-lightning==1.3.4->ratsnlp) (5.4.1)\r\n",
      "Requirement already satisfied: fsspec[http]>=2021.4.0 in /home/itjung/anaconda3/envs/py38/lib/python3.8/site-packages (from pytorch-lightning==1.3.4->ratsnlp) (2022.1.0)\r\n",
      "Requirement already satisfied: tqdm>=4.41.0 in /home/itjung/anaconda3/envs/py38/lib/python3.8/site-packages (from pytorch-lightning==1.3.4->ratsnlp) (4.62.3)\r\n",
      "Requirement already satisfied: huggingface-hub>=0.0.12 in /home/itjung/anaconda3/envs/py38/lib/python3.8/site-packages (from transformers==4.10.0->ratsnlp) (0.4.0)\r\n",
      "Requirement already satisfied: regex!=2019.12.17 in /home/itjung/anaconda3/envs/py38/lib/python3.8/site-packages (from transformers==4.10.0->ratsnlp) (2022.1.18)\r\n",
      "Requirement already satisfied: tokenizers<0.11,>=0.10.1 in /home/itjung/anaconda3/envs/py38/lib/python3.8/site-packages (from transformers==4.10.0->ratsnlp) (0.10.3)\r\n",
      "Requirement already satisfied: filelock in /home/itjung/anaconda3/envs/py38/lib/python3.8/site-packages (from transformers==4.10.0->ratsnlp) (3.4.2)\r\n",
      "Requirement already satisfied: sacremoses in /home/itjung/anaconda3/envs/py38/lib/python3.8/site-packages (from transformers==4.10.0->ratsnlp) (0.0.47)\r\n",
      "Requirement already satisfied: requests in /home/itjung/anaconda3/envs/py38/lib/python3.8/site-packages (from transformers==4.10.0->ratsnlp) (2.27.1)\r\n",
      "Requirement already satisfied: Werkzeug>=2.0 in /home/itjung/anaconda3/envs/py38/lib/python3.8/site-packages (from flask>=1.1.4->ratsnlp) (2.0.2)\r\n",
      "Requirement already satisfied: itsdangerous>=2.0 in /home/itjung/anaconda3/envs/py38/lib/python3.8/site-packages (from flask>=1.1.4->ratsnlp) (2.0.1)\r\n",
      "Requirement already satisfied: click>=7.1.2 in /home/itjung/anaconda3/envs/py38/lib/python3.8/site-packages (from flask>=1.1.4->ratsnlp) (8.0.3)\r\n",
      "Requirement already satisfied: Jinja2>=3.0 in /home/itjung/anaconda3/envs/py38/lib/python3.8/site-packages (from flask>=1.1.4->ratsnlp) (3.0.3)\r\n",
      "Requirement already satisfied: Six in /home/itjung/anaconda3/envs/py38/lib/python3.8/site-packages (from flask_cors>=3.0.10->ratsnlp) (1.16.0)\r\n",
      "Requirement already satisfied: dataclasses>=0.6 in /home/itjung/anaconda3/envs/py38/lib/python3.8/site-packages (from Korpora>=0.2.0->ratsnlp) (0.6)\r\n",
      "Requirement already satisfied: xlrd>=1.2.0 in /home/itjung/anaconda3/envs/py38/lib/python3.8/site-packages (from Korpora>=0.2.0->ratsnlp) (2.0.1)\r\n",
      "Requirement already satisfied: typing-extensions in /home/itjung/anaconda3/envs/py38/lib/python3.8/site-packages (from torch>=1.9.0->ratsnlp) (4.0.1)\r\n",
      "Requirement already satisfied: aiohttp in /home/itjung/anaconda3/envs/py38/lib/python3.8/site-packages (from fsspec[http]>=2021.4.0->pytorch-lightning==1.3.4->ratsnlp) (3.8.1)\r\n",
      "Requirement already satisfied: MarkupSafe>=2.0 in /home/itjung/anaconda3/envs/py38/lib/python3.8/site-packages (from Jinja2>=3.0->flask>=1.1.4->ratsnlp) (2.0.1)\r\n",
      "Requirement already satisfied: pyparsing!=3.0.5,>=2.0.2 in /home/itjung/anaconda3/envs/py38/lib/python3.8/site-packages (from packaging->pytorch-lightning==1.3.4->ratsnlp) (3.0.7)\r\n",
      "Requirement already satisfied: urllib3<1.27,>=1.21.1 in /home/itjung/anaconda3/envs/py38/lib/python3.8/site-packages (from requests->transformers==4.10.0->ratsnlp) (1.26.8)\r\n",
      "Requirement already satisfied: idna<4,>=2.5 in /home/itjung/anaconda3/envs/py38/lib/python3.8/site-packages (from requests->transformers==4.10.0->ratsnlp) (3.3)\r\n",
      "Requirement already satisfied: certifi>=2017.4.17 in /home/itjung/anaconda3/envs/py38/lib/python3.8/site-packages (from requests->transformers==4.10.0->ratsnlp) (2021.10.8)\r\n",
      "Requirement already satisfied: charset-normalizer~=2.0.0 in /home/itjung/anaconda3/envs/py38/lib/python3.8/site-packages (from requests->transformers==4.10.0->ratsnlp) (2.0.11)\r\n",
      "Requirement already satisfied: absl-py>=0.4 in /home/itjung/anaconda3/envs/py38/lib/python3.8/site-packages (from tensorboard!=2.5.0,>=2.2.0->pytorch-lightning==1.3.4->ratsnlp) (1.0.0)\r\n",
      "Requirement already satisfied: google-auth-oauthlib<0.5,>=0.4.1 in /home/itjung/anaconda3/envs/py38/lib/python3.8/site-packages (from tensorboard!=2.5.0,>=2.2.0->pytorch-lightning==1.3.4->ratsnlp) (0.4.6)\r\n",
      "Requirement already satisfied: markdown>=2.6.8 in /home/itjung/anaconda3/envs/py38/lib/python3.8/site-packages (from tensorboard!=2.5.0,>=2.2.0->pytorch-lightning==1.3.4->ratsnlp) (3.3.6)\r\n",
      "Requirement already satisfied: grpcio>=1.24.3 in /home/itjung/anaconda3/envs/py38/lib/python3.8/site-packages (from tensorboard!=2.5.0,>=2.2.0->pytorch-lightning==1.3.4->ratsnlp) (1.43.0)\r\n",
      "Requirement already satisfied: protobuf>=3.6.0 in /home/itjung/anaconda3/envs/py38/lib/python3.8/site-packages (from tensorboard!=2.5.0,>=2.2.0->pytorch-lightning==1.3.4->ratsnlp) (3.19.4)\r\n",
      "Requirement already satisfied: tensorboard-plugin-wit>=1.6.0 in /home/itjung/anaconda3/envs/py38/lib/python3.8/site-packages (from tensorboard!=2.5.0,>=2.2.0->pytorch-lightning==1.3.4->ratsnlp) (1.8.1)\r\n",
      "Requirement already satisfied: tensorboard-data-server<0.7.0,>=0.6.0 in /home/itjung/anaconda3/envs/py38/lib/python3.8/site-packages (from tensorboard!=2.5.0,>=2.2.0->pytorch-lightning==1.3.4->ratsnlp) (0.6.1)\r\n",
      "Requirement already satisfied: wheel>=0.26 in /home/itjung/anaconda3/envs/py38/lib/python3.8/site-packages (from tensorboard!=2.5.0,>=2.2.0->pytorch-lightning==1.3.4->ratsnlp) (0.37.1)\r\n",
      "Requirement already satisfied: google-auth<3,>=1.6.3 in /home/itjung/anaconda3/envs/py38/lib/python3.8/site-packages (from tensorboard!=2.5.0,>=2.2.0->pytorch-lightning==1.3.4->ratsnlp) (2.6.0)\r\n",
      "Requirement already satisfied: setuptools>=41.0.0 in /home/itjung/anaconda3/envs/py38/lib/python3.8/site-packages (from tensorboard!=2.5.0,>=2.2.0->pytorch-lightning==1.3.4->ratsnlp) (60.7.1)\r\n",
      "Requirement already satisfied: joblib in /home/itjung/anaconda3/envs/py38/lib/python3.8/site-packages (from sacremoses->transformers==4.10.0->ratsnlp) (1.1.0)\r\n",
      "Requirement already satisfied: cachetools<6.0,>=2.0.0 in /home/itjung/anaconda3/envs/py38/lib/python3.8/site-packages (from google-auth<3,>=1.6.3->tensorboard!=2.5.0,>=2.2.0->pytorch-lightning==1.3.4->ratsnlp) (5.0.0)\r\n",
      "Requirement already satisfied: rsa<5,>=3.1.4 in /home/itjung/anaconda3/envs/py38/lib/python3.8/site-packages (from google-auth<3,>=1.6.3->tensorboard!=2.5.0,>=2.2.0->pytorch-lightning==1.3.4->ratsnlp) (4.8)\r\n",
      "Requirement already satisfied: pyasn1-modules>=0.2.1 in /home/itjung/anaconda3/envs/py38/lib/python3.8/site-packages (from google-auth<3,>=1.6.3->tensorboard!=2.5.0,>=2.2.0->pytorch-lightning==1.3.4->ratsnlp) (0.2.8)\r\n",
      "Requirement already satisfied: requests-oauthlib>=0.7.0 in /home/itjung/anaconda3/envs/py38/lib/python3.8/site-packages (from google-auth-oauthlib<0.5,>=0.4.1->tensorboard!=2.5.0,>=2.2.0->pytorch-lightning==1.3.4->ratsnlp) (1.3.1)\r\n",
      "Requirement already satisfied: importlib-metadata>=4.4 in /home/itjung/anaconda3/envs/py38/lib/python3.8/site-packages (from markdown>=2.6.8->tensorboard!=2.5.0,>=2.2.0->pytorch-lightning==1.3.4->ratsnlp) (4.10.1)\r\n",
      "Requirement already satisfied: attrs>=17.3.0 in /home/itjung/anaconda3/envs/py38/lib/python3.8/site-packages (from aiohttp->fsspec[http]>=2021.4.0->pytorch-lightning==1.3.4->ratsnlp) (21.4.0)\r\n",
      "Requirement already satisfied: yarl<2.0,>=1.0 in /home/itjung/anaconda3/envs/py38/lib/python3.8/site-packages (from aiohttp->fsspec[http]>=2021.4.0->pytorch-lightning==1.3.4->ratsnlp) (1.7.2)\r\n",
      "Requirement already satisfied: multidict<7.0,>=4.5 in /home/itjung/anaconda3/envs/py38/lib/python3.8/site-packages (from aiohttp->fsspec[http]>=2021.4.0->pytorch-lightning==1.3.4->ratsnlp) (6.0.2)\r\n",
      "Requirement already satisfied: async-timeout<5.0,>=4.0.0a3 in /home/itjung/anaconda3/envs/py38/lib/python3.8/site-packages (from aiohttp->fsspec[http]>=2021.4.0->pytorch-lightning==1.3.4->ratsnlp) (4.0.2)\r\n",
      "Requirement already satisfied: aiosignal>=1.1.2 in /home/itjung/anaconda3/envs/py38/lib/python3.8/site-packages (from aiohttp->fsspec[http]>=2021.4.0->pytorch-lightning==1.3.4->ratsnlp) (1.2.0)\r\n",
      "Requirement already satisfied: frozenlist>=1.1.1 in /home/itjung/anaconda3/envs/py38/lib/python3.8/site-packages (from aiohttp->fsspec[http]>=2021.4.0->pytorch-lightning==1.3.4->ratsnlp) (1.3.0)\r\n",
      "Requirement already satisfied: zipp>=0.5 in /home/itjung/anaconda3/envs/py38/lib/python3.8/site-packages (from importlib-metadata>=4.4->markdown>=2.6.8->tensorboard!=2.5.0,>=2.2.0->pytorch-lightning==1.3.4->ratsnlp) (3.7.0)\r\n",
      "Requirement already satisfied: pyasn1<0.5.0,>=0.4.6 in /home/itjung/anaconda3/envs/py38/lib/python3.8/site-packages (from pyasn1-modules>=0.2.1->google-auth<3,>=1.6.3->tensorboard!=2.5.0,>=2.2.0->pytorch-lightning==1.3.4->ratsnlp) (0.4.8)\r\n",
      "Requirement already satisfied: oauthlib>=3.0.0 in /home/itjung/anaconda3/envs/py38/lib/python3.8/site-packages (from requests-oauthlib>=0.7.0->google-auth-oauthlib<0.5,>=0.4.1->tensorboard!=2.5.0,>=2.2.0->pytorch-lightning==1.3.4->ratsnlp) (3.2.0)\r\n"
     ]
    }
   ]
  },
  {
   "cell_type": "markdown",
   "metadata": {
    "id": "LvPQbN7vs50o"
   },
   "source": [
    "# 구글 드라이브 연동하기\n",
    "\n",
    "지난 튜토리얼에서 구축한 어휘 집합을 저장해 둔 구글 드라이브를 연결합니다. 자신의 구글 계정에 적용됩니다."
   ]
  },
  {
   "cell_type": "code",
   "metadata": {
    "id": "EpjMKSVWs6B2"
   },
   "source": [
    "from google.colab import drive\n",
    "drive.mount('/gdrive', force_remount=True)"
   ],
   "execution_count": null,
   "outputs": []
  },
  {
   "cell_type": "markdown",
   "metadata": {
    "id": "-Jsq7yrjWYTB"
   },
   "source": [
    "## GPT 입력값 만들기\n",
    "\n",
    "GPT 모델 입력값을 만들려면 Byte-level Byte Pair Encoding 어휘집합 구축 결과(`vocab.json`, `merges.txt`)가 자신의 구글 드라이브 경로(`/gdrive/My Drive/nlpbook/wordpiece`)에 있어야 합니다. 다음을 수행해 이미 만들어 놓은 BBPE 어휘집합을 포함한 GPT 토크나이저를 `tokenizer_gpt`라는 변수로 선언합니다."
   ]
  },
  {
   "cell_type": "code",
   "metadata": {
    "id": "aJRVVpC-WyIc"
   },
   "source": [
    "from transformers import GPT2Tokenizer\n",
    "tokenizer_gpt = GPT2Tokenizer.from_pretrained(\"/home/itjung/nlp/nlpbook/examples/basic/bbpe\")\n",
    "tokenizer_gpt.pad_token = \"[PAD]\""
   ],
   "execution_count": 2,
   "outputs": [
    {
     "name": "stderr",
     "output_type": "stream",
     "text": [
      "file /home/itjung/nlp/nlpbook/examples/basic/bbpe/config.json not found\n"
     ]
    }
   ]
  },
  {
   "cell_type": "markdown",
   "metadata": {
    "id": "8n3JlkUbZobu"
   },
   "source": [
    "예시 문장 세 개를 각각 토큰화해보겠습니다."
   ]
  },
  {
   "cell_type": "code",
   "metadata": {
    "id": "Vp48wVBIZtYj"
   },
   "source": [
    "sentences = [\n",
    "    \"아 더빙.. 진짜 짜증나네요 목소리\",\n",
    "    \"흠...포스터보고 초딩영화줄....오버연기조차 가볍지 않구나\",\n",
    "    \"별루 였다..\",\n",
    "]\n",
    "tokenized_sentences = [tokenizer_gpt.tokenize(sentence) for sentence in sentences]"
   ],
   "execution_count": 3,
   "outputs": []
  },
  {
   "cell_type": "markdown",
   "metadata": {
    "id": "8-ahPBg-Zx71"
   },
   "source": [
    "토큰화 결과를 확인합니다."
   ]
  },
  {
   "cell_type": "code",
   "metadata": {
    "id": "__DWz4djZz_u"
   },
   "source": [
    "tokenized_sentences"
   ],
   "execution_count": 4,
   "outputs": [
    {
     "data": {
      "text/plain": "[['ìķĦ', 'ĠëįĶë¹Ļ', '..', 'Ġì§Ħì§ľ', 'Ġì§ľì¦ĿëĤĺ', 'ëĦ¤ìļĶ', 'Ġëª©ìĨĮë¦¬'],\n ['íĿł',\n  '...',\n  'íı¬ìĬ¤íĦ°',\n  'ë³´ê³ł',\n  'Ġì´ĪëĶ©',\n  'ìĺģíĻĶ',\n  'ì¤Ħ',\n  '....',\n  'ìĺ¤ë²Ħ',\n  'ìĹ°ê¸°',\n  'ì¡°ì°¨',\n  'Ġê°Ģë³į',\n  'ì§Ģ',\n  'ĠìķĬ',\n  'êµ¬ëĤĺ'],\n ['ë³Ħë£¨', 'Ġìĺ', 'Ģëĭ¤', '..']]"
     },
     "execution_count": 4,
     "metadata": {},
     "output_type": "execute_result"
    }
   ]
  },
  {
   "cell_type": "markdown",
   "metadata": {
    "id": "XFQWvXsFXC1H"
   },
   "source": [
    "이번 배치의 크기가 3이라고 가정하고 이번 배치의 입력값을 만들어 보겠습니다."
   ]
  },
  {
   "cell_type": "code",
   "metadata": {
    "id": "ATwWfngCXQXK"
   },
   "source": [
    "sentences = [\n",
    "    \"아 더빙.. 진짜 짜증나네요 목소리\",\n",
    "    \"흠...포스터보고 초딩영화줄....오버연기조차 가볍지 않구나\",\n",
    "    \"별루 였다..\",\n",
    "]\n",
    "batch_inputs = tokenizer_gpt(\n",
    "    sentences,\n",
    "    padding=\"max_length\",\n",
    "    max_length=12,\n",
    "    truncation=True,\n",
    ")"
   ],
   "execution_count": 5,
   "outputs": []
  },
  {
   "cell_type": "markdown",
   "metadata": {
    "id": "F9g0tJ9uXj6O"
   },
   "source": [
    "`batch_inputs`의 내용을 확인해보겠습니다."
   ]
  },
  {
   "cell_type": "code",
   "metadata": {
    "id": "T4pnC6DjXkv6"
   },
   "source": [
    "batch_inputs.keys()"
   ],
   "execution_count": 6,
   "outputs": [
    {
     "data": {
      "text/plain": "dict_keys(['input_ids', 'attention_mask'])"
     },
     "execution_count": 6,
     "metadata": {},
     "output_type": "execute_result"
    }
   ]
  },
  {
   "cell_type": "code",
   "metadata": {
    "id": "XJBRdJegXsZd"
   },
   "source": [
    "batch_inputs['input_ids']"
   ],
   "execution_count": 7,
   "outputs": [
    {
     "data": {
      "text/plain": "[[334, 2338, 263, 581, 4055, 464, 3808, 0, 0, 0, 0, 0],\n [3693, 336, 2876, 758, 2883, 356, 806, 422, 9875, 875, 2960, 7292],\n [4957, 451, 3653, 263, 0, 0, 0, 0, 0, 0, 0, 0]]"
     },
     "execution_count": 7,
     "metadata": {},
     "output_type": "execute_result"
    }
   ]
  },
  {
   "cell_type": "code",
   "metadata": {
    "id": "b_XT5QTsXvBG"
   },
   "source": [
    "batch_inputs['attention_mask']"
   ],
   "execution_count": 8,
   "outputs": [
    {
     "data": {
      "text/plain": "[[1, 1, 1, 1, 1, 1, 1, 0, 0, 0, 0, 0],\n [1, 1, 1, 1, 1, 1, 1, 1, 1, 1, 1, 1],\n [1, 1, 1, 1, 0, 0, 0, 0, 0, 0, 0, 0]]"
     },
     "execution_count": 8,
     "metadata": {},
     "output_type": "execute_result"
    }
   ]
  },
  {
   "cell_type": "markdown",
   "metadata": {
    "id": "IzWd3u-vXz9c"
   },
   "source": [
    "## BERT 입력값 만들기\n",
    "\n",
    "BERT 모델 입력값을 만들려면 자신의 구글 드라이브 경로(`/gdrive/My Drive/nlpbook/wordpiece`)에 워드피스 어휘집합 구축 결과(`vocab.txt`)가 있어야 합니다. 다음을 수행해 위에서 이미 만들어 놓은 워드피스 어휘집합을 포함한 BERT 토크나이저를 `tokenizer_bert`라는 변수로 선언합니다."
   ]
  },
  {
   "cell_type": "code",
   "metadata": {
    "id": "JTFeKKzJX-O7"
   },
   "source": [
    "from transformers import BertTokenizer\n",
    "tokenizer_bert = BertTokenizer.from_pretrained(\n",
    "    \"/home/itjung/nlp/nlpbook/examples/basic/wordpiece\",\n",
    "    do_lower_case=False,\n",
    ")"
   ],
   "execution_count": 9,
   "outputs": [
    {
     "name": "stderr",
     "output_type": "stream",
     "text": [
      "file /home/itjung/nlp/nlpbook/examples/basic/wordpiece/config.json not found\n"
     ]
    }
   ]
  },
  {
   "cell_type": "markdown",
   "metadata": {
    "id": "9pcxOXJxaER5"
   },
   "source": [
    "예시 문장 세 개를 각각 토큰화해보겠습니다."
   ]
  },
  {
   "cell_type": "code",
   "metadata": {
    "id": "c9AzWXcvaJKH"
   },
   "source": [
    "sentences = [\n",
    "    \"아 더빙.. 진짜 짜증나네요 목소리\",\n",
    "    \"흠...포스터보고 초딩영화줄....오버연기조차 가볍지 않구나\",\n",
    "    \"별루 였다..\",\n",
    "]\n",
    "tokenized_sentences = [tokenizer_bert.tokenize(sentence) for sentence in sentences]"
   ],
   "execution_count": 10,
   "outputs": []
  },
  {
   "cell_type": "markdown",
   "metadata": {
    "id": "xJhOHq-maNLw"
   },
   "source": [
    "토큰화 결과를 확인합니다."
   ]
  },
  {
   "cell_type": "code",
   "metadata": {
    "id": "HdzBTLFPaPFU"
   },
   "source": [
    "tokenized_sentences"
   ],
   "execution_count": 11,
   "outputs": [
    {
     "data": {
      "text/plain": "[['아', '더빙', '.', '.', '진짜', '짜증나', '##네요', '목소리'],\n ['흠',\n  '.',\n  '.',\n  '.',\n  '포스터',\n  '##보고',\n  '초딩',\n  '##영화',\n  '##줄',\n  '.',\n  '.',\n  '.',\n  '.',\n  '오버',\n  '##연기',\n  '##조차',\n  '가볍',\n  '##지',\n  '않',\n  '##구나'],\n ['별루', '였다', '.', '.']]"
     },
     "execution_count": 11,
     "metadata": {},
     "output_type": "execute_result"
    }
   ]
  },
  {
   "cell_type": "markdown",
   "metadata": {
    "id": "cMxTUoowYHb2"
   },
   "source": [
    "이번 배치의 크기가 3이라고 가정하고 이번 배치의 입력값을 만들어 보겠습니다."
   ]
  },
  {
   "cell_type": "code",
   "metadata": {
    "id": "G_sFosQjYIE3"
   },
   "source": [
    "sentences = [\n",
    "    \"아 더빙.. 진짜 짜증나네요 목소리\",\n",
    "    \"흠...포스터보고 초딩영화줄....오버연기조차 가볍지 않구나\",\n",
    "    \"별루 였다..\",\n",
    "]\n",
    "batch_inputs = tokenizer_bert(\n",
    "    sentences,\n",
    "    padding=\"max_length\",\n",
    "    max_length=12,\n",
    "    truncation=True,\n",
    ")"
   ],
   "execution_count": 12,
   "outputs": []
  },
  {
   "cell_type": "markdown",
   "metadata": {
    "id": "ohNW5R3zYOW5"
   },
   "source": [
    "`batch_inputs`의 내용을 확인해보겠습니다."
   ]
  },
  {
   "cell_type": "code",
   "metadata": {
    "id": "RZiMSoaKYTUX"
   },
   "source": [
    "batch_inputs.keys()"
   ],
   "execution_count": 13,
   "outputs": [
    {
     "data": {
      "text/plain": "dict_keys(['input_ids', 'token_type_ids', 'attention_mask'])"
     },
     "execution_count": 13,
     "metadata": {},
     "output_type": "execute_result"
    }
   ]
  },
  {
   "cell_type": "code",
   "metadata": {
    "id": "4pWaGuSdYZGR"
   },
   "source": [
    "batch_inputs['input_ids']"
   ],
   "execution_count": 14,
   "outputs": [
    {
     "data": {
      "text/plain": "[[2, 621, 2631, 16, 16, 1993, 3678, 1990, 3323, 3, 0, 0],\n [2, 997, 16, 16, 16, 2609, 2045, 2796, 1981, 1346, 16, 3],\n [2, 3274, 9508, 16, 16, 3, 0, 0, 0, 0, 0, 0]]"
     },
     "execution_count": 14,
     "metadata": {},
     "output_type": "execute_result"
    }
   ]
  },
  {
   "cell_type": "code",
   "metadata": {
    "id": "djtA4xkIYbOk"
   },
   "source": [
    "batch_inputs['attention_mask']"
   ],
   "execution_count": 15,
   "outputs": [
    {
     "data": {
      "text/plain": "[[1, 1, 1, 1, 1, 1, 1, 1, 1, 1, 0, 0],\n [1, 1, 1, 1, 1, 1, 1, 1, 1, 1, 1, 1],\n [1, 1, 1, 1, 1, 1, 0, 0, 0, 0, 0, 0]]"
     },
     "execution_count": 15,
     "metadata": {},
     "output_type": "execute_result"
    }
   ]
  },
  {
   "cell_type": "code",
   "metadata": {
    "id": "cVR15VXZYoTZ"
   },
   "source": [
    "batch_inputs['token_type_ids']"
   ],
   "execution_count": 16,
   "outputs": [
    {
     "data": {
      "text/plain": "[[0, 0, 0, 0, 0, 0, 0, 0, 0, 0, 0, 0],\n [0, 0, 0, 0, 0, 0, 0, 0, 0, 0, 0, 0],\n [0, 0, 0, 0, 0, 0, 0, 0, 0, 0, 0, 0]]"
     },
     "execution_count": 16,
     "metadata": {},
     "output_type": "execute_result"
    }
   ]
  },
  {
   "cell_type": "code",
   "execution_count": null,
   "outputs": [],
   "source": [],
   "metadata": {
    "collapsed": false,
    "pycharm": {
     "name": "#%%\n"
    }
   }
  }
 ]
}